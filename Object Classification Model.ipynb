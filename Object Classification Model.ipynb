{
 "cells": [
  {
   "cell_type": "markdown",
   "metadata": {
    "id": "rToNpu4_cNKF"
   },
   "source": [
    "**Student Name - Shraddha Khadepatil**\n",
    "\n",
    "**Student id - 100820094**\n",
    "\n",
    "**Subject Name - Applied Machine Learning**\n",
    "\n",
    "**Prof. Name - Noopa Jagdeesh**\n"
   ]
  },
  {
   "cell_type": "markdown",
   "metadata": {
    "id": "wxGgt8p0bZp9"
   },
   "source": [
    "**CIFAR-10 Photo Classfication Dataset**\n",
    "\n",
    "CIFAR is an acronym that stands for the Canadian Institute For Advanced Research. The dataset is comprised of 60,000 32×32 pixel color photographs of objects from 10 classes, such as frogs, birds, cats, ships, etc. The class labels and their standard associated integer values are listed below.\n",
    "\n",
    "0: airplane\n",
    "\n",
    "1: automobile\n",
    "\n",
    "2: bird\n",
    "\n",
    "3: cat\n",
    "\n",
    "4: deer\n",
    "\n",
    "5: dog\n",
    "\n",
    "6: frog\n",
    "\n",
    "7: horse\n",
    "\n",
    "8: ship\n",
    "\n",
    "9: truck"
   ]
  },
  {
   "cell_type": "code",
   "execution_count": null,
   "metadata": {
    "id": "AUwjT4sebRm_"
   },
   "outputs": [],
   "source": [
    "#Importing required libraries\n",
    "import sys\n",
    "from matplotlib import pyplot\n",
    "from keras.datasets import cifar10\n",
    "from tensorflow.keras.utils import to_categorical\n",
    "from keras.models import Sequential\n",
    "from keras.layers import Conv2D\n",
    "from keras.layers import MaxPooling2D\n",
    "from keras.layers import Dense\n",
    "from keras.layers import Flatten\n",
    "from tensorflow.keras.optimizers import SGD\n",
    "from keras.preprocessing.image import load_img\n",
    "from keras.preprocessing.image import img_to_array\n",
    "from keras.models import load_model\n",
    "import numpy as np"
   ]
  },
  {
   "cell_type": "code",
   "execution_count": null,
   "metadata": {
    "colab": {
     "base_uri": "https://localhost:8080/"
    },
    "id": "fjmfj8Gg9dlC",
    "outputId": "6e190d36-d701-4376-fd12-172d8d290e0c"
   },
   "outputs": [
    {
     "name": "stdout",
     "output_type": "stream",
     "text": [
      "Drive already mounted at /content/drive; to attempt to forcibly remount, call drive.mount(\"/content/drive\", force_remount=True).\n"
     ]
    }
   ],
   "source": [
    "from google.colab import drive\n",
    "drive.mount('/content/drive') "
   ]
  },
  {
   "cell_type": "code",
   "execution_count": null,
   "metadata": {
    "id": "aFkLJg_UW4bx"
   },
   "outputs": [],
   "source": [
    "# Loading the dataset\n",
    "(x_train, y_train), (x_test, y_test) = cifar10.load_data()\n",
    "# We also know that there are 10 classes and that classes are represented as unique integers.\n",
    "# We can, therefore, use a one hot encoding for the class element of each sample\n",
    "y_train = to_categorical(y_train)\n",
    "y_test = to_categorical(y_test)  #to_categorical converts a class vector (integers) to binary class matrix"
   ]
  },
  {
   "cell_type": "code",
   "execution_count": null,
   "metadata": {
    "id": "rP2WtUJEW90H"
   },
   "outputs": [],
   "source": [
    "# Converting from integers to floats\n",
    "trainNorm = x_train.astype('float32')\n",
    "testNorm = x_test.astype('float32')\n",
    "trainNorm = trainNorm / 255.0\n",
    "testNorm = testNorm / 255.0"
   ]
  },
  {
   "cell_type": "markdown",
   "metadata": {
    "id": "Xx3C2mjDce73"
   },
   "source": [
    "**CNN Architecture**"
   ]
  },
  {
   "cell_type": "code",
   "execution_count": null,
   "metadata": {
    "id": "_2REXGeOXIOk"
   },
   "outputs": [],
   "source": [
    "modelCNN = Sequential()\n",
    "modelCNN.add(Conv2D(32, (3, 3), activation='relu', kernel_initializer='he_uniform', padding='same', input_shape=(32, 32, 3)))\n",
    "modelCNN.add(Conv2D(32, (3, 3), activation='relu', kernel_initializer='he_uniform', padding='same'))\n",
    "modelCNN.add(MaxPooling2D((2, 2)))\n",
    "modelCNN.add(Conv2D(64, (3, 3), activation='relu', kernel_initializer='he_uniform', padding='same'))\n",
    "modelCNN.add(Conv2D(64, (3, 3), activation='relu', kernel_initializer='he_uniform', padding='same'))\n",
    "modelCNN.add(MaxPooling2D((2, 2)))\n",
    "modelCNN.add(Conv2D(128, (3, 3), activation='relu', kernel_initializer='he_uniform', padding='same'))\n",
    "modelCNN.add(Conv2D(128, (3, 3), activation='relu', kernel_initializer='he_uniform', padding='same'))\n",
    "modelCNN.add(MaxPooling2D((2, 2)))\n",
    "modelCNN.add(Flatten())\n",
    "modelCNN.add(Dense(128, activation='relu', kernel_initializer='he_uniform'))\n",
    "modelCNN.add(Dense(10, activation='softmax'))\n",
    "# Compiling the model using stochastic gradient descent with learning rate as 0.001 and momentum = 0.9\n",
    "opt = SGD(learning_rate=0.001, momentum=0.9)\n",
    "modelCNN.compile(optimizer=opt, loss='categorical_crossentropy', metrics=['accuracy'])"
   ]
  },
  {
   "cell_type": "markdown",
   "metadata": {
    "id": "zL4997FMcFzi"
   },
   "source": [
    "**Fit the model**"
   ]
  },
  {
   "cell_type": "code",
   "execution_count": null,
   "metadata": {
    "colab": {
     "base_uri": "https://localhost:8080/"
    },
    "id": "OqueRDYYYKzy",
    "outputId": "684250dd-d842-4466-f36c-c211aaf942be"
   },
   "outputs": [
    {
     "data": {
      "text/plain": [
       "<keras.callbacks.History at 0x7f0526740290>"
      ]
     },
     "execution_count": 74,
     "metadata": {},
     "output_type": "execute_result"
    }
   ],
   "source": [
    "modelCNN.fit(x_train, y_train, epochs=32, batch_size=10, validation_data=(x_test, y_test), verbose=0)"
   ]
  },
  {
   "cell_type": "markdown",
   "metadata": {
    "id": "Z7Mf7onXcJSr"
   },
   "source": [
    "**Calculating the Accuracy**"
   ]
  },
  {
   "cell_type": "code",
   "execution_count": null,
   "metadata": {
    "colab": {
     "base_uri": "https://localhost:8080/"
    },
    "id": "F3EBsrSrzvG0",
    "outputId": "11b710f8-6b07-4e8d-d04a-9976bb8462b4"
   },
   "outputs": [
    {
     "name": "stdout",
     "output_type": "stream",
     "text": [
      "Test Accuracy: 0.100\n",
      "Loss: nan\n"
     ]
    }
   ],
   "source": [
    "loss, acc = modelCNN.evaluate(x_test, y_test, verbose=0)\n",
    "print('Test Accuracy: %.3f' % acc)\n",
    "print('Loss: %.3f' % loss)"
   ]
  },
  {
   "cell_type": "markdown",
   "metadata": {
    "id": "gar7z620cj-I"
   },
   "source": [
    "**Save the model**"
   ]
  },
  {
   "cell_type": "code",
   "execution_count": null,
   "metadata": {
    "id": "F6PSBqsO0BEv"
   },
   "outputs": [],
   "source": [
    "modelCNN.save('cnnModel.h5')"
   ]
  },
  {
   "cell_type": "markdown",
   "metadata": {
    "id": "PmDuopSyco3z"
   },
   "source": [
    "**Make prediction using the given sample image**"
   ]
  },
  {
   "cell_type": "code",
   "execution_count": null,
   "metadata": {
    "colab": {
     "base_uri": "https://localhost:8080/"
    },
    "id": "OzarDUDD0oOz",
    "outputId": "847267a2-7618-4638-dea0-7928e4fbfd91"
   },
   "outputs": [
    {
     "name": "stdout",
     "output_type": "stream",
     "text": [
      "4\n"
     ]
    }
   ],
   "source": [
    "# Loading the image\n",
    "img = load_img(\"/content/drive/MyDrive/test1.png\", target_size=(32, 32))\n",
    "#  Converting image to array\n",
    "img = img_to_array(img)\n",
    "# Reshaping into a single sample with 3 channels\n",
    "img = img.reshape(1, 32, 32, 3)\n",
    "# prepare pixel data\n",
    "img = img.astype('float32')\n",
    "img = img / 255.0\n",
    "\n",
    "modelCNN = load_model('cnnModel.h5')\n",
    "\n",
    "\n",
    "predictX=modelCNN.predict(img) \n",
    "classesX=np.argmax(predictX,axis=-1)\n",
    "print(classesX[0])"
   ]
  }
 ],
 "metadata": {
  "accelerator": "GPU",
  "colab": {
   "collapsed_sections": [],
   "name": "LAB#1_Evaluation_100820094.ipynb",
   "provenance": []
  },
  "kernelspec": {
   "display_name": "Python 3 (ipykernel)",
   "language": "python",
   "name": "python3"
  },
  "language_info": {
   "codemirror_mode": {
    "name": "ipython",
    "version": 3
   },
   "file_extension": ".py",
   "mimetype": "text/x-python",
   "name": "python",
   "nbconvert_exporter": "python",
   "pygments_lexer": "ipython3",
   "version": "3.9.7"
  }
 },
 "nbformat": 4,
 "nbformat_minor": 1
}
